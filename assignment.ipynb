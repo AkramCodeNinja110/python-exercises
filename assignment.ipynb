{
 "cells": [
  {
   "cell_type": "code",
   "execution_count": 3,
   "id": "b2368ac1-8adc-4bc6-886f-68afa9a8d5dc",
   "metadata": {},
   "outputs": [
    {
     "name": "stdout",
     "output_type": "stream",
     "text": [
      "Name:\t\t\tMuhammad Akram\n",
      "Father's Name:\tMuhammad Hussain\n",
      "Date of Birth:\t15-12-2004\n"
     ]
    }
   ],
   "source": [
    "# 1. Print Your Name with your Father name and Date of birth using suitable escape sequence charactor\n",
    "name = \"Muhammad Akram\"\n",
    "father_name = \"Muhammad Hussain\"\n",
    "date_of_birth = \"15-12-2004\"\n",
    "\n",
    "print(\"Name:\\t\\t\\t\" + name + \"\\nFather's Name:\\t\" + father_name + \"\\nDate of Birth:\\t\" + date_of_birth)\n"
   ]
  },
  {
   "cell_type": "code",
   "execution_count": 4,
   "id": "ec4006b5-5425-4557-ab32-1c203094a782",
   "metadata": {},
   "outputs": [
    {
     "name": "stdout",
     "output_type": "stream",
     "text": [
      "Name:\t\t\tMuhammad Akram\n",
      "Father's Name:\tAkram Khan\n",
      "Date of Birth:\t01-01-1990\n",
      "Education:\t\tFinal year student of Software Engineering\n",
      "Interests:\t\tMERN stack, AI, DevOps, AWS cloud, Cybersecurity, and Kubernetes\n"
     ]
    }
   ],
   "source": [
    "# 2. Write your small bio using variables and print it using print function\n",
    "name = \"Muhammad Akram\"\n",
    "father_name = \"Akram Khan\"\n",
    "date_of_birth = \"01-01-1990\"\n",
    "education = \"Final year student of Software Engineering\"\n",
    "interests = \"MERN stack, AI, DevOps, AWS cloud, Cybersecurity, and Kubernetes\"\n",
    "\n",
    "print(\"Name:\\t\\t\\t\" + name)\n",
    "print(\"Father's Name:\\t\" + father_name)\n",
    "print(\"Date of Birth:\\t\" + date_of_birth)\n",
    "print(\"Education:\\t\\t\" + education)\n",
    "print(\"Interests:\\t\\t\" + interests)\n"
   ]
  },
  {
   "cell_type": "code",
   "execution_count": 7,
   "id": "6e9d3640-11ef-4bd2-97e2-cb84baf0cf58",
   "metadata": {},
   "outputs": [
    {
     "name": "stdout",
     "output_type": "stream",
     "text": [
      "Arithmetic Operators:\n",
      "10 + 5 = 15\n",
      "10 - 5 = 5\n",
      "10 * 5 = 50\n",
      "10 / 5 = 2.0\n",
      "10 % 5 = 0\n",
      "10 ** 5 = 100000\n",
      "10 // 5 = 2\n",
      "\n",
      "Assignment Operators:\n",
      "a += b: 15\n",
      "a -= b: 10\n",
      "a *= b: 50\n",
      "a /= b: 10.0\n",
      "a %= b: 0.0\n",
      "a **= b: 0.0\n",
      "a //= b: 0.0\n",
      "\n",
      "Comparison Operators:\n",
      "0.0 == 5: False\n",
      "0.0 != 5: True\n",
      "0.0 > 5: False\n",
      "0.0 < 5: True\n",
      "0.0 >= 5: False\n",
      "0.0 <= 5: True\n",
      "\n",
      "Logical Operators:\n",
      "0.0 > 5 and 15 > 0.0: False\n",
      "0.0 > 5 or 15 < 0.0: False\n",
      "not(0.0 > 5): True\n",
      "\n",
      "Membership Operators:\n",
      "3 in [1, 2, 3, 4, 5]: True\n",
      "6 not in [1, 2, 3, 4, 5]: True\n",
      "\n",
      "Identity Operators:\n",
      "0.0 is 5: False\n",
      "0.0 is not 5: True\n",
      "\n",
      "Operator Precedence:\n",
      "0.0 + 5 * 15 = 75.0\n",
      "(0.0 + 5) * 15 = 75.0\n"
     ]
    }
   ],
   "source": [
    "# 3. Write a program in which use all the operators we can use in Python\n",
    "# Variables\n",
    "a = 10\n",
    "b = 5\n",
    "c = 15\n",
    "d = [1, 2, 3, 4, 5]\n",
    "e = \"Python\"\n",
    "\n",
    "# Arithmetic Operators\n",
    "print(\"Arithmetic Operators:\")\n",
    "print(f\"{a} + {b} = {a + b}\")    \n",
    "print(f\"{a} - {b} = {a - b}\")    \n",
    "print(f\"{a} * {b} = {a * b}\")   \n",
    "print(f\"{a} / {b} = {a / b}\")    \n",
    "print(f\"{a} % {b} = {a % b}\")    \n",
    "print(f\"{a} ** {b} = {a ** b}\")   \n",
    "print(f\"{a} // {b} = {a // b}\")   \n",
    "\n",
    "# Assignment Operators\n",
    "print(\"\\nAssignment Operators:\")\n",
    "a += b\n",
    "print(f\"a += b: {a}\")\n",
    "a -= b\n",
    "print(f\"a -= b: {a}\")\n",
    "a *= b\n",
    "print(f\"a *= b: {a}\")\n",
    "a /= b\n",
    "print(f\"a /= b: {a}\")\n",
    "a %= b\n",
    "print(f\"a %= b: {a}\")\n",
    "a **= b\n",
    "print(f\"a **= b: {a}\")\n",
    "a //= b\n",
    "print(f\"a //= b: {a}\")\n",
    "\n",
    "# Comparison Operators\n",
    "print(\"\\nComparison Operators:\")\n",
    "print(f\"{a} == {b}: {a == b}\")    \n",
    "print(f\"{a} != {b}: {a != b}\")   \n",
    "print(f\"{a} > {b}: {a > b}\")      \n",
    "print(f\"{a} < {b}: {a < b}\")     \n",
    "print(f\"{a} >= {b}: {a >= b}\")    \n",
    "print(f\"{a} <= {b}: {a <= b}\")   \n",
    "\n",
    "# Logical Operators\n",
    "print(\"\\nLogical Operators:\")\n",
    "print(f\"{a} > {b} and {c} > {a}: {a > b and c > a}\") \n",
    "print(f\"{a} > {b} or {c} < {a}: {a > b or c < a}\")   \n",
    "print(f\"not({a} > {b}): {not(a > b)}\")              \n",
    " \n",
    "\n",
    "# Membership Operators\n",
    "print(\"\\nMembership Operators:\")\n",
    "print(f\"3 in {d}: {3 in d}\")      \n",
    "print(f\"6 not in {d}: {6 not in d}\")  \n",
    "\n",
    "# Identity Operators\n",
    "print(\"\\nIdentity Operators:\")\n",
    "print(f\"{a} is {b}: {a is b}\")     \n",
    "print(f\"{a} is not {b}: {a is not b}\")\n",
    "\n",
    "# Demonstrating operator precedence\n",
    "print(\"\\nOperator Precedence:\")\n",
    "print(f\"{a} + {b} * {c} = {a + b * c}\")  \n",
    "print(f\"({a} + {b}) * {c} = {(a + b) * c}\") \n"
   ]
  },
  {
   "cell_type": "code",
   "execution_count": 8,
   "id": "a68e3928-ed6d-49a2-b9c6-fb5891eea23f",
   "metadata": {},
   "outputs": [
    {
     "name": "stdout",
     "output_type": "stream",
     "text": [
      "The calculated percentage is: 85.0%\n"
     ]
    }
   ],
   "source": [
    "# 4.Completes the following steps of small task:\n",
    "#Mention Marks of English , Islamiat and Maths out of 100 in 3 different variables\n",
    "#Mention Variable of Total Marks and assign 300 to it\n",
    "#Calculate Percentage\n",
    "# Step 1: Mention Marks of English, Islamiat, and Maths out of 100 in 3 different variables\n",
    "english_marks = 85\n",
    "islamiat_marks = 78\n",
    "maths_marks = 92\n",
    "\n",
    "# Step 2: Mention Variable of Total Marks and assign 300 to it\n",
    "total_marks = 300\n",
    "\n",
    "# Step 3: Calculate Percentage\n",
    "percentage = ((english_marks + islamiat_marks + maths_marks) / (total_marks)) * 100\n",
    "\n",
    "# Step 4: Print the calculated percentage\n",
    "print(f\"The calculated percentage is: {percentage}%\")\n"
   ]
  },
  {
   "cell_type": "markdown",
   "id": "d5e3a77f-2865-48fb-bc95-42c813d19a5a",
   "metadata": {},
   "source": [
    "#part2\n"
   ]
  },
  {
   "cell_type": "code",
   "execution_count": 1,
   "id": "1752e554-f065-4061-8857-98b769566fa6",
   "metadata": {},
   "outputs": [
    {
     "name": "stdin",
     "output_type": "stream",
     "text": [
      "Enter your salary:  25000\n",
      "Enter your years of service:  10\n"
     ]
    },
    {
     "name": "stdout",
     "output_type": "stream",
     "text": [
      "Your net bonus amount is: 1250.0\n"
     ]
    }
   ],
   "source": [
    "#A company decided to give bonus of 5% to employee if his/her year of service is more than 5 years. Ask user for their salary and year of service and print the net bonus amount.\n",
    "\n",
    "# Get the user's salary and years of service\n",
    "salary = float(input(\"Enter your salary: \"))\n",
    "years_of_service = int(input(\"Enter your years of service: \"))\n",
    "\n",
    "# Calculate the bonus if the years of service are more than 5\n",
    "if years_of_service > 5:\n",
    "    bonus = salary * 0.05\n",
    "    print(f\"Your net bonus amount is: {bonus}\")\n",
    "else:\n",
    "    print(\"You are not eligible for a bonus.\")\n"
   ]
  },
  {
   "cell_type": "code",
   "execution_count": 2,
   "id": "b20ac479-ed06-4c28-9051-c0fa5df10e86",
   "metadata": {},
   "outputs": [
    {
     "name": "stdin",
     "output_type": "stream",
     "text": [
      "Enter your age:  24\n"
     ]
    },
    {
     "name": "stdout",
     "output_type": "stream",
     "text": [
      "You are eligible for voting.\n"
     ]
    }
   ],
   "source": [
    "#Write a program to check whether a person is eligible for voting or not. (accept age from user) if age is greater than 17 eligible otherwise not eligible\n",
    "# Get the user's age\n",
    "age = int(input(\"Enter your age: \"))\n",
    "\n",
    "# Check if the age is greater than 17\n",
    "if age > 17:\n",
    "    print(\"You are eligible for voting.\")\n",
    "else:\n",
    "    print(\"You are not eligible for voting.\")\n"
   ]
  },
  {
   "cell_type": "code",
   "execution_count": 3,
   "id": "6dc7d2f5-f878-49dd-8489-4eb8034d8238",
   "metadata": {},
   "outputs": [
    {
     "name": "stdin",
     "output_type": "stream",
     "text": [
      "Enter a number:  12\n"
     ]
    },
    {
     "name": "stdout",
     "output_type": "stream",
     "text": [
      "The number 12 is even.\n"
     ]
    }
   ],
   "source": [
    "#Write a program to check whether a number entered by user is even or odd.\n",
    "# Get the number from the user\n",
    "number = int(input(\"Enter a number: \"))\n",
    "\n",
    "# Check if the number is even or odd\n",
    "if number % 2 == 0:\n",
    "    print(f\"The number {number} is even.\")\n",
    "else:\n",
    "    print(f\"The number {number} is odd.\")\n"
   ]
  },
  {
   "cell_type": "code",
   "execution_count": 4,
   "id": "a8e01685-aa14-4752-953a-f235c0b18eb8",
   "metadata": {},
   "outputs": [
    {
     "name": "stdin",
     "output_type": "stream",
     "text": [
      "Enter a number:  12\n"
     ]
    },
    {
     "name": "stdout",
     "output_type": "stream",
     "text": [
      "The number 12 is not divisible by 7.\n"
     ]
    }
   ],
   "source": [
    "#Write a program to check whether a number is divisible by 7 or not. Show Answer\n",
    "# Get the number from the user\n",
    "number = int(input(\"Enter a number: \"))\n",
    "\n",
    "# Check if the number is divisible by 7\n",
    "if number % 7 == 0:\n",
    "    print(f\"The number {number} is divisible by 7.\")\n",
    "else:\n",
    "    print(f\"The number {number} is not divisible by 7.\")\n"
   ]
  },
  {
   "cell_type": "code",
   "execution_count": 5,
   "id": "3342a0ba-cf32-4ef1-873f-b6609c850330",
   "metadata": {},
   "outputs": [
    {
     "name": "stdin",
     "output_type": "stream",
     "text": [
      "Enter a number:  12\n"
     ]
    },
    {
     "name": "stdout",
     "output_type": "stream",
     "text": [
      "Bye\n"
     ]
    }
   ],
   "source": [
    "#Write a program to display \"Hello\" if a number entered by user is a multiple of five , otherwise print \"Bye\".\n",
    "# Get the number from the user\n",
    "number = int(input(\"Enter a number: \"))\n",
    "\n",
    "# Check if the number is a multiple of five\n",
    "if number % 5 == 0:\n",
    "    print(\"Hello\")\n",
    "else:\n",
    "    print(\"Bye\")\n"
   ]
  },
  {
   "cell_type": "code",
   "execution_count": 6,
   "id": "332de84e-f7b6-4bd9-8707-e4669acaf15a",
   "metadata": {},
   "outputs": [
    {
     "name": "stdin",
     "output_type": "stream",
     "text": [
      "Enter a number:  5\n"
     ]
    },
    {
     "name": "stdout",
     "output_type": "stream",
     "text": [
      "The last digit of the number 5 is 5.\n"
     ]
    }
   ],
   "source": [
    "#Write a program to display the last digit of a number.\n",
    "# Get the number from the user\n",
    "number = int(input(\"Enter a number: \"))\n",
    "\n",
    "# Find the last digit of the number\n",
    "last_digit = number % 10\n",
    "\n",
    "# Display the last digit\n",
    "print(f\"The last digit of the number {number} is {last_digit}.\")\n"
   ]
  },
  {
   "cell_type": "code",
   "execution_count": 7,
   "id": "74717423-410b-4a43-a91f-4d1dff3ca694",
   "metadata": {},
   "outputs": [
    {
     "name": "stdin",
     "output_type": "stream",
     "text": [
      "Enter the length of the rectangle:  21\n",
      "Enter the breadth of the rectangle:  21\n"
     ]
    },
    {
     "name": "stdout",
     "output_type": "stream",
     "text": [
      "It is a square.\n"
     ]
    }
   ],
   "source": [
    "#Take values of length and breadth of a rectangle from user and print if it is square or rectangle.\n",
    "# Get the length and breadth from the user\n",
    "length = float(input(\"Enter the length of the rectangle: \"))\n",
    "breadth = float(input(\"Enter the breadth of the rectangle: \"))\n",
    "\n",
    "# Check if it is a square or a rectangle\n",
    "if length == breadth:\n",
    "    print(\"It is a square.\")\n",
    "else:\n",
    "    print(\"It is a rectangle.\")\n"
   ]
  },
  {
   "cell_type": "code",
   "execution_count": 8,
   "id": "5fdfa628-c7d9-4cf0-a54d-79986d7c4416",
   "metadata": {},
   "outputs": [
    {
     "name": "stdin",
     "output_type": "stream",
     "text": [
      "Enter the first number:  12\n",
      "Enter the second number:  5\n"
     ]
    },
    {
     "name": "stdout",
     "output_type": "stream",
     "text": [
      "The greatest number is 12.\n"
     ]
    }
   ],
   "source": [
    "#Take two int values from user and print greatest among them.\n",
    "# Get two integer values from the user\n",
    "num1 = int(input(\"Enter the first number: \"))\n",
    "num2 = int(input(\"Enter the second number: \"))\n",
    "\n",
    "# Determine and print the greatest number\n",
    "if num1 > num2:\n",
    "    print(f\"The greatest number is {num1}.\")\n",
    "elif num2 > num1:\n",
    "    print(f\"The greatest number is {num2}.\")\n",
    "else:\n",
    "    print(\"Both numbers are equal.\")\n"
   ]
  },
  {
   "cell_type": "code",
   "execution_count": 9,
   "id": "422c0950-9ff6-4d3b-9fb5-4b84cec50ec9",
   "metadata": {},
   "outputs": [
    {
     "name": "stdin",
     "output_type": "stream",
     "text": [
      "Enter the quantity of units:  1\n"
     ]
    },
    {
     "name": "stdout",
     "output_type": "stream",
     "text": [
      "The total cost is: 100\n"
     ]
    }
   ],
   "source": [
    "#A shop will give discount of 10% if the cost of purchased quantity is more than 1000. Ask user for quantity Suppose, one unit will cost 100. Judge and print total cost for user.\n",
    "# Constants\n",
    "unit_price = 100\n",
    "discount_rate = 0.10\n",
    "\n",
    "# Get the quantity from the user\n",
    "quantity = int(input(\"Enter the quantity of units: \"))\n",
    "\n",
    "# Calculate the total cost without discount\n",
    "total_cost = quantity * unit_price\n",
    "\n",
    "# Check if the discount applies\n",
    "if total_cost > 1000:\n",
    "    discount = total_cost * discount_rate\n",
    "    total_cost -= discount\n",
    "\n",
    "# Print the total cost\n",
    "print(f\"The total cost is: {total_cost}\")\n"
   ]
  },
  {
   "cell_type": "code",
   "execution_count": 10,
   "id": "19bc6435-cfb5-45ef-8bc3-5749b7395863",
   "metadata": {},
   "outputs": [
    {
     "name": "stdin",
     "output_type": "stream",
     "text": [
      "Enter your marks:  85\n"
     ]
    },
    {
     "name": "stdout",
     "output_type": "stream",
     "text": [
      "Your grade is: A\n"
     ]
    }
   ],
   "source": [
    "#A school has following rules for grading system:\n",
    "#a. Below 25 - F\n",
    "#b. 25 to 45 - E\n",
    "#c. 45 to 50 - D\n",
    "#d. 50 to 60 - C\n",
    "#e. 60 to 80 - B\n",
    "#f. Above 80 - A\n",
    "#Ask user to enter marks and print the corresponding grade.\n",
    "# Get marks from the user\n",
    "marks = float(input(\"Enter your marks: \"))\n",
    "\n",
    "# Determine the grade based on the marks\n",
    "if marks < 25:\n",
    "    grade = \"F\"\n",
    "elif marks >= 25 and marks < 45:\n",
    "    grade = \"E\"\n",
    "elif marks >= 45 and marks < 50:\n",
    "    grade = \"D\"\n",
    "elif marks >= 50 and marks < 60:\n",
    "    grade = \"C\"\n",
    "elif marks >= 60 and marks <= 80:\n",
    "    grade = \"B\"\n",
    "else:\n",
    "    grade = \"A\"\n",
    "\n",
    "# Print the corresponding grade\n",
    "print(f\"Your grade is: {grade}\")\n"
   ]
  },
  {
   "cell_type": "code",
   "execution_count": 11,
   "id": "0b25d140-666a-4de7-a73b-60ad5517c51a",
   "metadata": {},
   "outputs": [
    {
     "name": "stdin",
     "output_type": "stream",
     "text": [
      "Enter the number of classes held:  12\n",
      "Enter the number of classes attended:  12\n"
     ]
    },
    {
     "name": "stdout",
     "output_type": "stream",
     "text": [
      "Percentage of classes attended: 100.0%\n",
      "Student is allowed to sit in the exam.\n"
     ]
    }
   ],
   "source": [
    "#)A student will not be allowed to sit in exam if his/her attendence is less than 75%.\n",
    "#Take following input from user\n",
    "#Number of classes held\n",
    "#Number of classes attended.\n",
    "#And print\n",
    "#percentage of class attended\n",
    "#Is student is allowed to sit in exam or not.\n",
    "# Get input from the user\n",
    "classes_held = int(input(\"Enter the number of classes held: \"))\n",
    "classes_attended = int(input(\"Enter the number of classes attended: \"))\n",
    "\n",
    "# Calculate attendance percentage\n",
    "attendance_percentage = (classes_attended / classes_held) * 100\n",
    "\n",
    "# Print the percentage of classes attended\n",
    "print(f\"Percentage of classes attended: {attendance_percentage}%\")\n",
    "\n",
    "# Check if the student is allowed to sit in the exam\n",
    "if attendance_percentage >= 75:\n",
    "    print(\"Student is allowed to sit in the exam.\")\n",
    "else:\n",
    "    print(\"Student is not allowed to sit in the exam due to low attendance.\")\n"
   ]
  },
  {
   "cell_type": "code",
   "execution_count": 12,
   "id": "f8067e77-a11d-44cf-9202-f1a689de302e",
   "metadata": {},
   "outputs": [
    {
     "name": "stdin",
     "output_type": "stream",
     "text": [
      "Enter the number of classes held:  12\n",
      "Enter the number of classes attended:  10\n",
      "Do you have a medical cause? Enter 'Y' for Yes, 'N' for No:  y\n"
     ]
    },
    {
     "name": "stdout",
     "output_type": "stream",
     "text": [
      "Percentage of classes attended: 83.33333333333334%\n",
      "Student is allowed to sit in the exam.\n"
     ]
    }
   ],
   "source": [
    "#Modify the above question to allow student to sit if he/she has medical cause. Ask user if he/she has medical cause or not ( 'Y' or 'N' ) and print accordingly.\n",
    "# Get input from the user\n",
    "classes_held = int(input(\"Enter the number of classes held: \"))\n",
    "classes_attended = int(input(\"Enter the number of classes attended: \"))\n",
    "medical_cause = input(\"Do you have a medical cause? Enter 'Y' for Yes, 'N' for No: \")\n",
    "\n",
    "# Calculate attendance percentage\n",
    "attendance_percentage = (classes_attended / classes_held) * 100\n",
    "\n",
    "# Print the percentage of classes attended\n",
    "print(f\"Percentage of classes attended: {attendance_percentage}%\")\n",
    "\n",
    "# Check if the student is allowed to sit in the exam\n",
    "if attendance_percentage >= 75:\n",
    "    print(\"Student is allowed to sit in the exam.\")\n",
    "else:\n",
    "    if medical_cause.upper() == 'Y':\n",
    "        print(\"Student is allowed to sit in the exam due to medical cause.\")\n",
    "    else:\n",
    "        print(\"Student is not allowed to sit in the exam due to low attendance and no medical cause.\")\n"
   ]
  },
  {
   "cell_type": "code",
   "execution_count": 13,
   "id": "04ae9128-1e5f-4254-ba78-40c48bb39e35",
   "metadata": {},
   "outputs": [
    {
     "name": "stdin",
     "output_type": "stream",
     "text": [
      "Enter a year:  12\n"
     ]
    },
    {
     "name": "stdout",
     "output_type": "stream",
     "text": [
      "12 is a leap year.\n"
     ]
    }
   ],
   "source": [
    "#Write a program to check if a year is leap year or not.\n",
    "#If a year is divisible by 4 then it is leap year but if the year is century year like 2000, 1900, 2100 then it must be divisible by 400.\n",
    "# Get the year from the user\n",
    "year = int(input(\"Enter a year: \"))\n",
    "\n",
    "# Check if it's a leap year\n",
    "if (year % 4 == 0 and year % 100 != 0) or (year % 400 == 0):\n",
    "    print(f\"{year} is a leap year.\")\n",
    "else:\n",
    "    print(f\"{year} is not a leap year.\")\n"
   ]
  },
  {
   "cell_type": "code",
   "execution_count": 16,
   "id": "a1d01f83-f7c3-45fe-9e3f-cf2604a030ad",
   "metadata": {},
   "outputs": [
    {
     "name": "stdin",
     "output_type": "stream",
     "text": [
      "Enter your age:  24\n",
      "Enter your gender (M or F):  M\n",
      "Enter your marital status (Y or N):  N\n"
     ]
    },
    {
     "name": "stdout",
     "output_type": "stream",
     "text": [
      "You may work anywhere.\n"
     ]
    }
   ],
   "source": [
    "#Ask user to enter age, gender ( M or F ), marital status ( Y or N ) and then using following rules print their place of service.\n",
    "#if employee is female, then she will work only in urban areas.\n",
    "\n",
    "#if employee is a male and age is in between 20 to 40 then he may work in anywhere\n",
    "\n",
    "#if employee is male and age is in between 40 t0 60 then he will work in urban areas only.\n",
    "\n",
    "#And any other input of age should print \"ERROR\"\n",
    "# Get input from the user\n",
    "age = int(input(\"Enter your age: \"))\n",
    "gender = input(\"Enter your gender (M or F): \").upper()\n",
    "marital_status = input(\"Enter your marital status (Y or N): \").upper()\n",
    "\n",
    "# Determine the place of service based on the rules\n",
    "if age < 20 or age > 60:\n",
    "    print(\"ERROR: Age criteria not met.\")\n",
    "elif gender == 'F':\n",
    "    print(\"You will work in urban areas.\")\n",
    "elif gender == 'M':\n",
    "    if 20 <= age <= 40:\n",
    "        print(\"You may work anywhere.\")\n",
    "    elif 40 < age <= 60:\n",
    "        print(\"You will work in urban areas only.\")\n",
    "    else:\n",
    "        print(\"ERROR: Age criteria not met.\")\n",
    "else:\n",
    "    print(\"ERROR: Invalid gender input.\")\n",
    "\n"
   ]
  },
  {
   "cell_type": "code",
   "execution_count": 17,
   "id": "de5b9ad5-b815-47d5-bc4c-4475b680d0da",
   "metadata": {},
   "outputs": [
    {
     "name": "stdin",
     "output_type": "stream",
     "text": [
      "Enter number of units consumed:  12\n"
     ]
    },
    {
     "name": "stdout",
     "output_type": "stream",
     "text": [
      "The electricity bill amount is Rs. 0\n"
     ]
    },
    {
     "name": "stdin",
     "output_type": "stream",
     "text": [
      "Enter age of person 1:  24\n",
      "Enter age of person 2:  25\n",
      "Enter age of person 3:  26\n"
     ]
    },
    {
     "name": "stdout",
     "output_type": "stream",
     "text": [
      "The oldest person is 26 years old.\n",
      "The youngest person is 24 years old.\n"
     ]
    }
   ],
   "source": [
    "# Write a program to calculate the electricity bill (accept number of unit from user) according to the following criteria : Unit Price\n",
    "# uptp 100 units no charge Next 200 units Rs 5 per unit After 200 units Rs 10 per unit (For example if input unit is 350 than total bill amount is Rs.3500 (For example if input unit is 97 than total bill amount is Rs.0 (For example if input unit is 150 than total bill amount is Rs.750\n",
    "# Take input of age of 3 people by user and determine oldest and youngest among them.\n",
    "# Function to calculate electricity bill\n",
    "def calculate_electricity_bill(units):\n",
    "    if units <= 100:\n",
    "        bill_amount = 0\n",
    "    elif units <= 300:\n",
    "        bill_amount = (units - 100) * 5\n",
    "    else:\n",
    "        bill_amount = (200 * 5) + (units - 300) * 10\n",
    "    return bill_amount\n",
    "\n",
    "# Function to determine oldest and youngest among three ages\n",
    "def find_oldest_and_youngest(age1, age2, age3):\n",
    "    ages = [age1, age2, age3]\n",
    "    oldest = max(ages)\n",
    "    youngest = min(ages)\n",
    "    return oldest, youngest\n",
    "\n",
    "# Get input from the user for electricity bill calculation\n",
    "units = int(input(\"Enter number of units consumed: \"))\n",
    "bill_amount = calculate_electricity_bill(units)\n",
    "print(f\"The electricity bill amount is Rs. {bill_amount}\")\n",
    "\n",
    "# Get input from the user for age comparison\n",
    "age1 = int(input(\"Enter age of person 1: \"))\n",
    "age2 = int(input(\"Enter age of person 2: \"))\n",
    "age3 = int(input(\"Enter age of person 3: \"))\n",
    "oldest, youngest = find_oldest_and_youngest(age1, age2, age3)\n",
    "print(f\"The oldest person is {oldest} years old.\")\n",
    "print(f\"The youngest person is {youngest} years old.\")\n"
   ]
  },
  {
   "cell_type": "code",
   "execution_count": null,
   "id": "e16a98e5-c1b9-45ea-ad62-b8b8d61352eb",
   "metadata": {},
   "outputs": [],
   "source": []
  }
 ],
 "metadata": {
  "kernelspec": {
   "display_name": "Python 3 (ipykernel)",
   "language": "python",
   "name": "python3"
  },
  "language_info": {
   "codemirror_mode": {
    "name": "ipython",
    "version": 3
   },
   "file_extension": ".py",
   "mimetype": "text/x-python",
   "name": "python",
   "nbconvert_exporter": "python",
   "pygments_lexer": "ipython3",
   "version": "3.11.7"
  }
 },
 "nbformat": 4,
 "nbformat_minor": 5
}
