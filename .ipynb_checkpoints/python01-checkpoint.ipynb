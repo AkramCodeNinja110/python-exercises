{
 "cells": [
  {
   "cell_type": "code",
   "execution_count": 1,
   "id": "a601df5d-d125-4fd9-9ac2-91c522e609d6",
   "metadata": {},
   "outputs": [
    {
     "name": "stdout",
     "output_type": "stream",
     "text": [
      "hello\n"
     ]
    }
   ],
   "source": [
    "print(\"hello\")"
   ]
  },
  {
   "cell_type": "code",
   "execution_count": 2,
   "id": "3182bb07-7133-4b9e-ba59-161e92345119",
   "metadata": {},
   "outputs": [
    {
     "ename": "NameError",
     "evalue": "name 'Print' is not defined",
     "output_type": "error",
     "traceback": [
      "\u001b[1;31m---------------------------------------------------------------------------\u001b[0m",
      "\u001b[1;31mNameError\u001b[0m                                 Traceback (most recent call last)",
      "Cell \u001b[1;32mIn[2], line 1\u001b[0m\n\u001b[1;32m----> 1\u001b[0m \u001b[43mPrint\u001b[49m(\u001b[38;5;124m\"\u001b[39m\u001b[38;5;124mhello\u001b[39m\u001b[38;5;124m\"\u001b[39m)\n",
      "\u001b[1;31mNameError\u001b[0m: name 'Print' is not defined"
     ]
    }
   ],
   "source": [
    "Print(\"hello\")"
   ]
  },
  {
   "cell_type": "code",
   "execution_count": 3,
   "id": "33dfb2ae-4bd8-4582-a668-97cdefd1fbbc",
   "metadata": {},
   "outputs": [
    {
     "name": "stdout",
     "output_type": "stream",
     "text": [
      "helo\n"
     ]
    }
   ],
   "source": [
    "print(\"helo\")"
   ]
  },
  {
   "cell_type": "code",
   "execution_count": 4,
   "id": "619bd6eb-8043-4671-b14b-635502a454f6",
   "metadata": {},
   "outputs": [
    {
     "name": "stdout",
     "output_type": "stream",
     "text": [
      "10000\n"
     ]
    }
   ],
   "source": [
    "print(10000)"
   ]
  },
  {
   "cell_type": "code",
   "execution_count": 5,
   "id": "6534c68d-ed53-40a8-98bd-fe08035d0cef",
   "metadata": {},
   "outputs": [
    {
     "name": "stdout",
     "output_type": "stream",
     "text": [
      "12 233 jhefgbejhfgvb\n"
     ]
    }
   ],
   "source": [
    "print(12,233,\"jhefgbejhfgvb\")"
   ]
  },
  {
   "cell_type": "code",
   "execution_count": 6,
   "id": "d52a0166-26f4-4fc6-83c3-33a06a82f475",
   "metadata": {},
   "outputs": [
    {
     "name": "stdout",
     "output_type": "stream",
     "text": [
      "\n"
     ]
    }
   ],
   "source": [
    "print()"
   ]
  },
  {
   "cell_type": "code",
   "execution_count": 7,
   "id": "bab56d36-cbcc-4e23-85a9-d46c9cbcc055",
   "metadata": {},
   "outputs": [
    {
     "ename": "SyntaxError",
     "evalue": "invalid syntax (3240366728.py, line 1)",
     "output_type": "error",
     "traceback": [
      "\u001b[1;36m  Cell \u001b[1;32mIn[7], line 1\u001b[1;36m\u001b[0m\n\u001b[1;33m    type print\u001b[0m\n\u001b[1;37m         ^\u001b[0m\n\u001b[1;31mSyntaxError\u001b[0m\u001b[1;31m:\u001b[0m invalid syntax\n"
     ]
    }
   ],
   "source": [
    "type print"
   ]
  },
  {
   "cell_type": "code",
   "execution_count": 8,
   "id": "47fd95a2-3bfd-444f-af64-976ea9fa985f",
   "metadata": {},
   "outputs": [
    {
     "data": {
      "text/plain": [
       "builtin_function_or_method"
      ]
     },
     "execution_count": 8,
     "metadata": {},
     "output_type": "execute_result"
    }
   ],
   "source": [
    "type(print)"
   ]
  },
  {
   "cell_type": "code",
   "execution_count": 9,
   "id": "c9ab8790-3d45-4f47-b6d9-e1d474379d5b",
   "metadata": {},
   "outputs": [
    {
     "ename": "NameError",
     "evalue": "name 'hello' is not defined",
     "output_type": "error",
     "traceback": [
      "\u001b[1;31m---------------------------------------------------------------------------\u001b[0m",
      "\u001b[1;31mNameError\u001b[0m                                 Traceback (most recent call last)",
      "Cell \u001b[1;32mIn[9], line 1\u001b[0m\n\u001b[1;32m----> 1\u001b[0m \u001b[38;5;28mtype\u001b[39m(\u001b[43mhello\u001b[49m)\n",
      "\u001b[1;31mNameError\u001b[0m: name 'hello' is not defined"
     ]
    }
   ],
   "source": [
    "type(hello)"
   ]
  },
  {
   "cell_type": "code",
   "execution_count": 10,
   "id": "a82f7093-da11-4667-8751-bb27af33e657",
   "metadata": {},
   "outputs": [
    {
     "data": {
      "text/plain": [
       "type"
      ]
     },
     "execution_count": 10,
     "metadata": {},
     "output_type": "execute_result"
    }
   ],
   "source": [
    "type(int)"
   ]
  },
  {
   "cell_type": "code",
   "execution_count": 11,
   "id": "235c45be-cf75-4d3c-b913-254259fb7a9e",
   "metadata": {},
   "outputs": [
    {
     "ename": "SyntaxError",
     "evalue": "invalid syntax (2401032094.py, line 1)",
     "output_type": "error",
     "traceback": [
      "\u001b[1;36m  Cell \u001b[1;32mIn[11], line 1\u001b[1;36m\u001b[0m\n\u001b[1;33m    type(for)\u001b[0m\n\u001b[1;37m         ^\u001b[0m\n\u001b[1;31mSyntaxError\u001b[0m\u001b[1;31m:\u001b[0m invalid syntax\n"
     ]
    }
   ],
   "source": [
    "type(for)"
   ]
  },
  {
   "cell_type": "code",
   "execution_count": 12,
   "id": "db19d06f-bb25-4438-955c-8d1335fa2e17",
   "metadata": {},
   "outputs": [
    {
     "ename": "SyntaxError",
     "evalue": "invalid syntax (343065240.py, line 1)",
     "output_type": "error",
     "traceback": [
      "\u001b[1;36m  Cell \u001b[1;32mIn[12], line 1\u001b[1;36m\u001b[0m\n\u001b[1;33m    type(if)\u001b[0m\n\u001b[1;37m         ^\u001b[0m\n\u001b[1;31mSyntaxError\u001b[0m\u001b[1;31m:\u001b[0m invalid syntax\n"
     ]
    }
   ],
   "source": [
    "type(if)"
   ]
  },
  {
   "cell_type": "code",
   "execution_count": 13,
   "id": "cdc258f3-332b-4114-b8f2-fe4abae9fb55",
   "metadata": {},
   "outputs": [
    {
     "name": "stdout",
     "output_type": "stream",
     "text": [
      "12 12.22\n"
     ]
    }
   ],
   "source": [
    "print(12,12.22)"
   ]
  },
  {
   "cell_type": "code",
   "execution_count": 14,
   "id": "14b9721c-e37f-40c2-b433-4e8314c8622b",
   "metadata": {},
   "outputs": [
    {
     "name": "stdout",
     "output_type": "stream",
     "text": [
      "hello world\n"
     ]
    }
   ],
   "source": [
    "print('hello world')"
   ]
  },
  {
   "cell_type": "code",
   "execution_count": 15,
   "id": "365fe2a8-cb0a-4805-9c06-4954e8d4b8ee",
   "metadata": {},
   "outputs": [
    {
     "name": "stdout",
     "output_type": "stream",
     "text": [
      "hello world\n"
     ]
    }
   ],
   "source": [
    "print(\"hello world\")"
   ]
  },
  {
   "cell_type": "code",
   "execution_count": 16,
   "id": "e50cef46-f7ab-4900-87f3-4ae1fa5cf272",
   "metadata": {},
   "outputs": [
    {
     "name": "stdout",
     "output_type": "stream",
     "text": [
      " hello /n world\n"
     ]
    }
   ],
   "source": [
    "print(\" hello /n world\")"
   ]
  },
  {
   "cell_type": "code",
   "execution_count": 17,
   "id": "0b042820-6181-4f57-86e8-0c7875c6f2f2",
   "metadata": {},
   "outputs": [
    {
     "name": "stdout",
     "output_type": "stream",
     "text": [
      "hello \n",
      " world\n"
     ]
    }
   ],
   "source": [
    "print(\"hello \\n world\")"
   ]
  },
  {
   "cell_type": "code",
   "execution_count": 18,
   "id": "e3e88510-7cc6-4c10-9cd2-8670e17b0026",
   "metadata": {},
   "outputs": [
    {
     "name": "stdout",
     "output_type": "stream",
     "text": [
      "hello \t world\n"
     ]
    }
   ],
   "source": [
    "print(\"hello \\t world\")"
   ]
  },
  {
   "cell_type": "code",
   "execution_count": 19,
   "id": "00418550-4262-436d-a61d-a569f0adfaa6",
   "metadata": {},
   "outputs": [
    {
     "name": "stdout",
     "output_type": "stream",
     "text": [
      "12\n"
     ]
    }
   ],
   "source": [
    "print(\"12\")"
   ]
  },
  {
   "cell_type": "code",
   "execution_count": 20,
   "id": "2b0933b0-3c14-4eee-b5d8-1c66c1f04d07",
   "metadata": {},
   "outputs": [
    {
     "data": {
      "text/plain": [
       "int"
      ]
     },
     "execution_count": 20,
     "metadata": {},
     "output_type": "execute_result"
    }
   ],
   "source": [
    "type(12)"
   ]
  },
  {
   "cell_type": "code",
   "execution_count": 21,
   "id": "7e135939-ead3-4a40-bf24-c67612c40a05",
   "metadata": {},
   "outputs": [
    {
     "data": {
      "text/plain": [
       "str"
      ]
     },
     "execution_count": 21,
     "metadata": {},
     "output_type": "execute_result"
    }
   ],
   "source": [
    "type(\"12\")"
   ]
  },
  {
   "cell_type": "code",
   "execution_count": 22,
   "id": "3b368b68-f877-4602-89e7-cec6c13a85d8",
   "metadata": {},
   "outputs": [
    {
     "data": {
      "text/plain": [
       "float"
      ]
     },
     "execution_count": 22,
     "metadata": {},
     "output_type": "execute_result"
    }
   ],
   "source": [
    "type(12.12222222)"
   ]
  },
  {
   "cell_type": "code",
   "execution_count": 23,
   "id": "4bb49d4a-804d-4d5d-806d-e3eee55f9378",
   "metadata": {},
   "outputs": [
    {
     "name": "stdout",
     "output_type": "stream",
     "text": [
      "123pakistan\n"
     ]
    }
   ],
   "source": [
    "print(\"123pakistan\")"
   ]
  },
  {
   "cell_type": "code",
   "execution_count": 24,
   "id": "8c452132-a367-42cf-b097-d6ed0a645d48",
   "metadata": {},
   "outputs": [
    {
     "name": "stdout",
     "output_type": "stream",
     "text": [
      "pakistan12344\n"
     ]
    }
   ],
   "source": [
    "print(\"pakistan12344\")"
   ]
  },
  {
   "cell_type": "code",
   "execution_count": 25,
   "id": "8238afac-b4be-4f26-8417-d3f5520b2b91",
   "metadata": {},
   "outputs": [
    {
     "name": "stdout",
     "output_type": "stream",
     "text": [
      "12kmnskldnakldn1212123lnsdclsdnfl\n"
     ]
    }
   ],
   "source": [
    "print(\"12kmnskldnakldn1212123lnsdclsdnfl\")"
   ]
  },
  {
   "cell_type": "code",
   "execution_count": 26,
   "id": "15abe1e7-64e7-4925-adff-53680c618ec4",
   "metadata": {},
   "outputs": [
    {
     "name": "stdout",
     "output_type": "stream",
     "text": [
      "hello world\n"
     ]
    }
   ],
   "source": [
    "print(\"hello\", 'world')"
   ]
  },
  {
   "cell_type": "code",
   "execution_count": 27,
   "id": "ef8adebe-84df-48df-b569-f7db6342b7d7",
   "metadata": {},
   "outputs": [
    {
     "name": "stdout",
     "output_type": "stream",
     "text": [
      "hello world\n"
     ]
    }
   ],
   "source": [
    "print(\"hello world\")"
   ]
  },
  {
   "cell_type": "code",
   "execution_count": 28,
   "id": "a61a41ff-7a8d-4082-9307-78a3fe48cc05",
   "metadata": {},
   "outputs": [
    {
     "name": "stdout",
     "output_type": "stream",
     "text": [
      "heloworld\n"
     ]
    }
   ],
   "source": [
    "print(\"helo\" \"world\")"
   ]
  },
  {
   "cell_type": "code",
   "execution_count": 29,
   "id": "7cf6a16b-f64c-4514-8493-0d10213e2410",
   "metadata": {},
   "outputs": [
    {
     "name": "stdout",
     "output_type": "stream",
     "text": [
      "helloworld\n"
     ]
    }
   ],
   "source": [
    "print(\"hello\", \"world\", sep=\"\")"
   ]
  },
  {
   "cell_type": "code",
   "execution_count": 30,
   "id": "0ed55c1b-7927-4526-9c01-94d12e97c68d",
   "metadata": {},
   "outputs": [
    {
     "name": "stdout",
     "output_type": "stream",
     "text": [
      "hello#world\n"
     ]
    }
   ],
   "source": [
    "print(\"hello\", \"world\", sep=\"#\")"
   ]
  },
  {
   "cell_type": "code",
   "execution_count": 1,
   "id": "988ec875-ea77-468a-ba65-7aa926018e55",
   "metadata": {},
   "outputs": [
    {
     "name": "stdout",
     "output_type": "stream",
     "text": [
      "hello world\n"
     ]
    }
   ],
   "source": [
    "print(\"hello world\")\n"
   ]
  },
  {
   "cell_type": "code",
   "execution_count": 18,
   "id": "dbfd8b2a-6607-461e-a792-1e44260a79bf",
   "metadata": {},
   "outputs": [
    {
     "data": {
      "text/plain": [
       "'\\nmatric_pass = input(\"mtric status\")\\ntest_cleared = input(\"status(pass/fail)\")\\nsource = input(\"source status\")\\nif matric_pass == \"pass\" and  test_cleared == \"pass\" or source == \"yes\":\\n    print(\"elgible\")\\n    print(\"admission possible\")\\nelse:\\n    print(\"not eligible\")\\n    '"
      ]
     },
     "execution_count": 18,
     "metadata": {},
     "output_type": "execute_result"
    }
   ],
   "source": [
    "\n",
    "# test_cleared = False\n",
    "matric_pass = input(\"mtric status\")\n",
    "test_cleared = input(\"status(pass/fail)\")\n",
    "source = input(\"source status\")\n",
    "if matric_pass == \"pass\" and  test_cleared == \"pass\" or source == \"yes\":\n",
    "    print(\"elgible\")\n",
    "    print(\"admission possible\")\n",
    "else:\n",
    "    print(\"not eligible\")\n",
    "    \n"
   ]
  },
  {
   "cell_type": "code",
   "execution_count": 19,
   "id": "0f134ab3-3599-448e-96b6-883b195febec",
   "metadata": {},
   "outputs": [
    {
     "name": "stdout",
     "output_type": "stream",
     "text": [
      "['karachi', 'skardu', 'lahore']\n"
     ]
    }
   ],
   "source": [
    "cities = [\"karachi\", \"skardu\", \"lahore\"]\n",
    "print(cities)"
   ]
  },
  {
   "cell_type": "code",
   "execution_count": 20,
   "id": "272f5604-6517-4288-8dc6-686e0f717112",
   "metadata": {},
   "outputs": [
    {
     "data": {
      "text/plain": [
       "list"
      ]
     },
     "execution_count": 20,
     "metadata": {},
     "output_type": "execute_result"
    }
   ],
   "source": [
    "type(cities)"
   ]
  },
  {
   "cell_type": "code",
   "execution_count": 22,
   "id": "adbb6b27-9196-49e2-8d2c-64d2e291e878",
   "metadata": {},
   "outputs": [
    {
     "name": "stdout",
     "output_type": "stream",
     "text": [
      "['karachi', 'skardu', 'lahore', 12, 122, True, False]\n"
     ]
    },
    {
     "data": {
      "text/plain": [
       "list"
      ]
     },
     "execution_count": 22,
     "metadata": {},
     "output_type": "execute_result"
    }
   ],
   "source": [
    "city_num = [\"karachi\", \"skardu\", \"lahore\", 12, 122, True, False]\n",
    "print(city_num)\n",
    "type(city_num)"
   ]
  },
  {
   "cell_type": "code",
   "execution_count": 37,
   "id": "5b4425c4-702c-41c6-96cd-0d026c6d1b7c",
   "metadata": {},
   "outputs": [
    {
     "name": "stdout",
     "output_type": "stream",
     "text": [
      "['khi', 'sk', 'ld', 12, 1222, 4]\n"
     ]
    },
    {
     "data": {
      "text/plain": [
       "[12]"
      ]
     },
     "execution_count": 37,
     "metadata": {},
     "output_type": "execute_result"
    }
   ],
   "source": [
    "cityName = [\"khi\", \"sk\", \"ld\", 12 ,1222]\n",
    "\n",
    "newli = [4, ]\n",
    "newtu = cityName + (newli)\n",
    "print(newtu)\n",
    "cityName[1:3]\n",
    "cityName[:]\n",
    "cityName[-2:4]"
   ]
  },
  {
   "cell_type": "code",
   "execution_count": 49,
   "id": "49da1fd8-3237-4f11-9fd6-7e2a0eefdbd3",
   "metadata": {},
   "outputs": [
    {
     "data": {
      "text/plain": [
       "['Seattle', 'Denver', 'Baltimore']"
      ]
     },
     "execution_count": 49,
     "metadata": {},
     "output_type": "execute_result"
    }
   ],
   "source": [
    "cities = [\"Atlanta\", \"Baltimore\", \"Chicago\",\n",
    " \"Denver\", \"Los Angeles\", \"Seattle\"]\n",
    "cities[-5: -2]\n",
    "cities[-3:]\n",
    "cities[::3] # skipping while slicing \n",
    "# print(cities)\n",
    "cities[::-1] # reversing the list , also can check the palindorme from this method\n",
    "cities[::-2]"
   ]
  },
  {
   "cell_type": "code",
   "execution_count": 50,
   "id": "8bae5198-2f2b-478e-ad7f-144c8457af25",
   "metadata": {},
   "outputs": [
    {
     "name": "stdout",
     "output_type": "stream",
     "text": [
      "['Atlanta', 'Baltimore', 'Chicago', 'Denver', 'Los Angeles', 'Seattle', 'karachi']\n"
     ]
    }
   ],
   "source": [
    "cities = [\"Atlanta\", \"Baltimore\", \"Chicago\",\n",
    " \"Denver\", \"Los Angeles\", \"Seattle\"]\n",
    "cities.append(\"karachi\")\n",
    "print(cities)"
   ]
  },
  {
   "cell_type": "code",
   "execution_count": 51,
   "id": "67b36920-ef69-4835-bd55-52889e7df9ba",
   "metadata": {},
   "outputs": [],
   "source": [
    "cities.insert(0, \"skardu\")"
   ]
  },
  {
   "cell_type": "code",
   "execution_count": 52,
   "id": "395bb70e-4b5f-4884-98ef-6d52235fd047",
   "metadata": {},
   "outputs": [
    {
     "name": "stdout",
     "output_type": "stream",
     "text": [
      "['skardu', 'Atlanta', 'Baltimore', 'Chicago', 'Denver', 'Los Angeles', 'Seattle', 'karachi']\n"
     ]
    }
   ],
   "source": [
    "print(cities)"
   ]
  },
  {
   "cell_type": "code",
   "execution_count": 55,
   "id": "5e4b4de9-f5ad-456b-b3c6-3663a944c1a0",
   "metadata": {},
   "outputs": [
    {
     "data": {
      "text/plain": [
       "['__add__',\n",
       " '__class__',\n",
       " '__class_getitem__',\n",
       " '__contains__',\n",
       " '__delattr__',\n",
       " '__delitem__',\n",
       " '__dir__',\n",
       " '__doc__',\n",
       " '__eq__',\n",
       " '__format__',\n",
       " '__ge__',\n",
       " '__getattribute__',\n",
       " '__getitem__',\n",
       " '__getstate__',\n",
       " '__gt__',\n",
       " '__hash__',\n",
       " '__iadd__',\n",
       " '__imul__',\n",
       " '__init__',\n",
       " '__init_subclass__',\n",
       " '__iter__',\n",
       " '__le__',\n",
       " '__len__',\n",
       " '__lt__',\n",
       " '__mul__',\n",
       " '__ne__',\n",
       " '__new__',\n",
       " '__reduce__',\n",
       " '__reduce_ex__',\n",
       " '__repr__',\n",
       " '__reversed__',\n",
       " '__rmul__',\n",
       " '__setattr__',\n",
       " '__setitem__',\n",
       " '__sizeof__',\n",
       " '__str__',\n",
       " '__subclasshook__',\n",
       " 'append',\n",
       " 'clear',\n",
       " 'copy',\n",
       " 'count',\n",
       " 'extend',\n",
       " 'index',\n",
       " 'insert',\n",
       " 'pop',\n",
       " 'remove',\n",
       " 'reverse',\n",
       " 'sort']"
      ]
     },
     "execution_count": 55,
     "metadata": {},
     "output_type": "execute_result"
    }
   ],
   "source": [
    "# cities. .tap press for checking all the methods on\n",
    "# cities.\n",
    "dir(cities)\n"
   ]
  },
  {
   "cell_type": "code",
   "execution_count": 74,
   "id": "1578808d-dda6-4120-bd2b-eb4b166ed53c",
   "metadata": {},
   "outputs": [
    {
     "name": "stdout",
     "output_type": "stream",
     "text": [
      "['Atlanta', 'Baltimore', 'Chicago', 'Denver', 'Los Angeles', 'Seattle', 'karachi']\n",
      "6\n"
     ]
    }
   ],
   "source": [
    "cities = [\"Atlanta\", \"Baltimore\", \"Chicago\",\n",
    " \"Denver\", \"Los Angeles\", \"Seattle\", \"karachi\"]\n",
    "print(cities)\n",
    "newcities = cities.index(\"karachi\")\n",
    "print(newcities)"
   ]
  },
  {
   "cell_type": "code",
   "execution_count": 78,
   "id": "df216ef6-64ee-4a35-b522-0d7ad2df8b51",
   "metadata": {},
   "outputs": [
    {
     "ename": "NameError",
     "evalue": "name 'value' is not defined",
     "output_type": "error",
     "traceback": [
      "\u001b[1;31m---------------------------------------------------------------------------\u001b[0m",
      "\u001b[1;31mNameError\u001b[0m                                 Traceback (most recent call last)",
      "Cell \u001b[1;32mIn[78], line 3\u001b[0m\n\u001b[0;32m      1\u001b[0m cities \u001b[38;5;241m=\u001b[39m [\u001b[38;5;124m\"\u001b[39m\u001b[38;5;124mAtlanta\u001b[39m\u001b[38;5;124m\"\u001b[39m, \u001b[38;5;124m\"\u001b[39m\u001b[38;5;124mBaltimore\u001b[39m\u001b[38;5;124m\"\u001b[39m, \u001b[38;5;124m\"\u001b[39m\u001b[38;5;124mChicago\u001b[39m\u001b[38;5;124m\"\u001b[39m,\n\u001b[0;32m      2\u001b[0m  \u001b[38;5;124m\"\u001b[39m\u001b[38;5;124mDenver\u001b[39m\u001b[38;5;124m\"\u001b[39m, \u001b[38;5;124m\"\u001b[39m\u001b[38;5;124mLos Angeles\u001b[39m\u001b[38;5;124m\"\u001b[39m, \u001b[38;5;124m\"\u001b[39m\u001b[38;5;124mSeattle\u001b[39m\u001b[38;5;124m\"\u001b[39m, \u001b[38;5;124m\"\u001b[39m\u001b[38;5;124mkarachi\u001b[39m\u001b[38;5;124m\"\u001b[39m]\n\u001b[1;32m----> 3\u001b[0m \u001b[38;5;28;01mif\u001b[39;00m \u001b[43mvalue\u001b[49m \u001b[38;5;129;01min\u001b[39;00m cities:\n\u001b[0;32m      4\u001b[0m     \u001b[38;5;28mprint\u001b[39m(\u001b[38;5;124m\"\u001b[39m\u001b[38;5;124mit is already exsit in list\u001b[39m\u001b[38;5;124m\"\u001b[39m)\n\u001b[0;32m      5\u001b[0m \u001b[38;5;28;01melse\u001b[39;00m:\n",
      "\u001b[1;31mNameError\u001b[0m: name 'value' is not defined"
     ]
    }
   ],
   "source": [
    "cities = [\"Atlanta\", \"Baltimore\", \"Chicago\",\n",
    " \"Denver\", \"Los Angeles\", \"Seattle\", \"karachi\"]\n",
    "if value in cities:\n",
    "    print(\"it is already exsit in list\")\n",
    "else:\n",
    "    cities.append(\"karachi\")\n",
    "    print(\"karachi added to list\")\n",
    "\n",
    "print(cities)"
   ]
  },
  {
   "cell_type": "code",
   "execution_count": 84,
   "id": "dcbc6b8b-dcc9-434f-9969-b4ea97d0c481",
   "metadata": {},
   "outputs": [
    {
     "name": "stdout",
     "output_type": "stream",
     "text": [
      "['Seattle']\n"
     ]
    }
   ],
   "source": [
    "# print(cities)\n",
    "# del cities[0]\n",
    "# print(cities)\n",
    "# cities.remove(\"karachi\")\n",
    "print(cities)"
   ]
  },
  {
   "cell_type": "code",
   "execution_count": null,
   "id": "17f21275-2d54-49c1-8cd7-59d5b90d091d",
   "metadata": {},
   "outputs": [],
   "source": [
    "cities = [\"Atlanta\", \"Baltimore\", \"Chicago\", \"Denver\", \"Los Angeles\", \"Seattle\", \"karachi\"]\n",
    "value = \"Atlanta\", \"Baltimore\", \"Chicago\", \"Denver\", \"Los Angeles\", \"Seattle\", \"karachi\"\n",
    "\n",
    "if value in cities:\n",
    "    print(\"It is already in the list\")\n",
    "else:\n",
    "    cities.append(\"karachi\")\n",
    "    print(\"karachi added to the list\")\n",
    "\n",
    "print(cities)\n"
   ]
  }
 ],
 "metadata": {
  "kernelspec": {
   "display_name": "Python 3 (ipykernel)",
   "language": "python",
   "name": "python3"
  },
  "language_info": {
   "codemirror_mode": {
    "name": "ipython",
    "version": 3
   },
   "file_extension": ".py",
   "mimetype": "text/x-python",
   "name": "python",
   "nbconvert_exporter": "python",
   "pygments_lexer": "ipython3",
   "version": "3.11.7"
  }
 },
 "nbformat": 4,
 "nbformat_minor": 5
}
